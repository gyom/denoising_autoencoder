{
 "cells": [
  {
   "cell_type": "markdown",
   "metadata": {},
   "source": [
    "## Basic import"
   ]
  },
  {
   "cell_type": "code",
   "execution_count": 4,
   "metadata": {},
   "outputs": [],
   "source": [
    "import sys\n",
    "sys.path.insert(0,'/current_project/src')\n",
    "\n",
    "import numpy as np\n",
    "import pickle\n",
    "\n",
    "import tensorflow as tf\n",
    "\n",
    "import denoising_autoencoder\n",
    "import denoising_autoencoder.spiral\n",
    "\n",
    "\n",
    "import matplotlib\n",
    "# This has already been specified in .scitools.cfg\n",
    "# so we don't need to explicitly pick 'Agg'.\n",
    "# matplotlib.use('Agg')\n",
    "import pylab\n",
    "import matplotlib.pyplot as plt\n",
    "\n",
    "\n",
    "# fig = plt.figure()\n",
    "# ax = fig.add_subplot(111)\n",
    "# ax.plot(range(10))"
   ]
  },
  {
   "cell_type": "code",
   "execution_count": 31,
   "metadata": {},
   "outputs": [
    {
     "name": "stdout",
     "output_type": "stream",
     "text": [
      "(1000, 1000)\n",
      "(1000, 1000)\n",
      "(1000, 1000)\n",
      "-1.0\n",
      "1.0\n",
      "-81306272.5431\n",
      "1.83574862343\n"
     ]
    },
    {
     "data": {
      "image/png": "[encoded data removed]",
      "text/plain": [
       "<matplotlib.figure.Figure at 0x7fd7eb79d2d0>"
      ]
     },
     "metadata": {},
     "output_type": "display_data"
    }
   ],
   "source": [
    "def plot_estimated_spiral_pdf(input_pickle_path):\n",
    "\n",
    "    with tf.gfile.GFile(input_pickle_path, mode='rb') as f:\n",
    "        results = pickle.load(f)\n",
    "    \n",
    "    print(results[\"grid_x\"].shape)\n",
    "    print(results[\"grid_y\"].shape)    \n",
    "    print(results[\"A_log_cumulative_weights\"].shape)\n",
    "    \n",
    "    print(results[\"grid_x\"].min())\n",
    "    print(results[\"grid_x\"].max())\n",
    "\n",
    "    print(results[\"A_log_cumulative_weights\"].min())\n",
    "    print(results[\"A_log_cumulative_weights\"].max())\n",
    "\n",
    "    tol = 1e-8\n",
    "    levels = np.array(\n",
    "        [-1e9] +\n",
    "        np.linspace(-100000, -100, 20).tolist() +\n",
    "        np.linspace(-100+tol, -10, 20).tolist() +\n",
    "        np.linspace(-10+tol, 0, 40).tolist() +\n",
    "        np.linspace(0+tol, 2, 20).tolist()\n",
    "    )\n",
    "    cmap = plt.get_cmap(\"autumn\")\n",
    "    #h = plt.contourf(results[\"grid_x\"],\n",
    "    #                 results[\"grid_y\"],\n",
    "    #                 results[\"A_log_cumulative_weights\"],\n",
    "    #                 levels=levels,\n",
    "    #                 cmap=cmap)\n",
    "    h = plt.contourf(results[\"grid_x\"],\n",
    "                     results[\"grid_y\"],\n",
    "                     np.exp(results[\"A_log_cumulative_weights\"]),\n",
    "                     cmap=cmap)\n",
    "    return h\n",
    "    \n",
    "h = plot_estimated_spiral_pdf(\"/current_project/data/p_reduced.pkl\")\n",
    "# h = plot_estimated_spiral_pdf(\"/current_project/data/p_part_00.pkl\")\n",
    "plt.show()\n",
    "# plot_estimated_spiral_pdf(\"/current_project/data/q_reduced.pkl\")"
   ]
  },
  {
   "cell_type": "code",
   "execution_count": null,
   "metadata": {},
   "outputs": [],
   "source": []
  }
 ],
 "metadata": {
  "kernelspec": {
   "display_name": "Python 2",
   "language": "python",
   "name": "python2"
  },
  "language_info": {
   "codemirror_mode": {
    "name": "ipython",
    "version": 2
   },
   "file_extension": ".py",
   "mimetype": "text/x-python",
   "name": "python",
   "nbconvert_exporter": "python",
   "pygments_lexer": "ipython2",
   "version": "2.7.12"
  }
 },
 "nbformat": 4,
 "nbformat_minor": 2
}
